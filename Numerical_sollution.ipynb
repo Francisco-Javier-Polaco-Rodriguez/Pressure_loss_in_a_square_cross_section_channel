{
 "cells": [
  {
   "cell_type": "code",
   "execution_count": 1,
   "id": "fb6307f4-316e-4d22-a1ec-f4c0a478d6ab",
   "metadata": {},
   "outputs": [],
   "source": [
    "import numpy as np\n",
    "from numpy import sin,cos,tan,pi\n",
    "import time\n",
    "from matplotlib import cm\n",
    "import matplotlib.pyplot as plt\n",
    "from tqdm import tqdm"
   ]
  },
  {
   "cell_type": "markdown",
   "id": "6f451df2-0e2a-418c-8341-72aa9a2a6235",
   "metadata": {},
   "source": [
    "In order to calculate the error of our method for the resulution of the PDE, we are going before to caracterize the numerical laplacian"
   ]
  },
  {
   "cell_type": "code",
   "execution_count": 2,
   "id": "057e097c-f277-43dd-aba4-044a00aac61e",
   "metadata": {},
   "outputs": [],
   "source": [
    "def DDx_per(M,dx):\n",
    "    I,J = M.shape\n",
    "    ddxM = np.zeros([I,J])\n",
    "    for j in range(J):\n",
    "        if j == J-1:\n",
    "            ddxM[:,j] = (M[:,2]-2*M[:,j]+M[:,j-2])/dx**2\n",
    "        elif j == 0:\n",
    "            ddxM[:,j] = (M[:,j+2]-2*M[:,j]+M[:,-3])/dx**2\n",
    "        elif j == 1:\n",
    "            ddxM[:,j] = (M[:,j+2]-2*M[:,j]+M[:,-2])/dx**2\n",
    "        elif j == J-2:\n",
    "            ddxM[:,j] = (M[:,1]-2*M[:,j]+M[:,j-2])/dx**2\n",
    "        else:\n",
    "            ddxM[:,j] = (M[:,j+2]-2*M[:,j]+M[:,j-2])/dx**2\n",
    "    return ddxM\n",
    "\n",
    "def DDy_per(M,dy):\n",
    "    I,J = M.shape\n",
    "    ddyM = np.zeros([I,J])\n",
    "    for i in range(I):\n",
    "        if i == I-1:\n",
    "            ddyM[i,:] = (M[2,:]-2*M[i,:]+M[i-2,:])/dy**2\n",
    "        elif i == 0:\n",
    "            ddyM[i,:] = (M[i+2,:]-2*M[i,:]+M[-3,:])/dy**2\n",
    "        elif i == 1:\n",
    "            ddyM[i,:] = (M[i+2,:]-2*M[i,:]+M[-2,:])/dy**2\n",
    "        elif i == I-2:\n",
    "            ddyM[i,:] = (M[1,:]-2*M[i,:]+M[i-2,:])/dy**2\n",
    "        else:\n",
    "            ddyM[i,:] = (M[i+2,:]-2*M[i,:]+M[i-2,:])/dy**2\n",
    "    return ddyM\n",
    "\n",
    "def DDx_Neu(M,dx,Bound_left,Bound_right):\n",
    "    I,J = M.shape\n",
    "    ddxM = np.zeros([I,J])\n",
    "    for j in range(1,J-1):\n",
    "        if j == J-1:\n",
    "            ddxM[:,j] = (Bound_right-2*M[:,j]+M[:,j-1])/dx**2\n",
    "        elif j == 0:\n",
    "            ddxM[:,j] = (M[:,j+1]-2*M[:,j]+Bound_left)/dx**2\n",
    "        else:\n",
    "            ddxM[:,j] = (M[:,j+1]-2*M[:,j]+M[:,j-1])/dx**2\n",
    "    return ddxM\n",
    "def DDy_Neu(M,dy,Bound_up,Bound_down):\n",
    "    I,J = M.shape\n",
    "    ddyM = np.zeros([I,J])\n",
    "    for i in range(1,I-1):\n",
    "        if i == I-1:\n",
    "            ddyM[i,:] = (Bound_down-2*M[i,:]+M[i-1,:])/dy**2\n",
    "        elif i == 0:\n",
    "            ddyM[i,:] = (M[i+1,:]-2*M[i,:]+Bound_up)/dy**2\n",
    "        else:\n",
    "            ddyM[i,:] = (M[i+1,:]-2*M[i,:]+M[i-1,:])/dy**2\n",
    "    return ddyM"
   ]
  },
  {
   "cell_type": "code",
   "execution_count": null,
   "id": "5e6673d7-366b-479f-b497-aebbf500d494",
   "metadata": {},
   "outputs": [],
   "source": []
  },
  {
   "cell_type": "code",
   "execution_count": 3,
   "id": "10952186-9f99-4871-bd3d-d6084f3b1a2c",
   "metadata": {},
   "outputs": [
    {
     "name": "stderr",
     "output_type": "stream",
     "text": [
      " 88%|████████████████████████████████████████████████████████████████████████▏         | 44/50 [00:04<00:00, 10.45it/s]\n"
     ]
    },
    {
     "ename": "KeyboardInterrupt",
     "evalue": "",
     "output_type": "error",
     "traceback": [
      "\u001b[1;31m---------------------------------------------------------------------------\u001b[0m",
      "\u001b[1;31mKeyboardInterrupt\u001b[0m                         Traceback (most recent call last)",
      "\u001b[1;32m~\\AppData\\Local\\Temp/ipykernel_17896/2038317220.py\u001b[0m in \u001b[0;36m<module>\u001b[1;34m\u001b[0m\n\u001b[0;32m      6\u001b[0m     \u001b[0mxvec\u001b[0m \u001b[1;33m=\u001b[0m \u001b[0mnp\u001b[0m\u001b[1;33m.\u001b[0m\u001b[0mlinspace\u001b[0m\u001b[1;33m(\u001b[0m\u001b[1;36m0\u001b[0m\u001b[1;33m,\u001b[0m\u001b[0mL\u001b[0m\u001b[1;33m,\u001b[0m\u001b[0mN_sp\u001b[0m\u001b[1;33m)\u001b[0m\u001b[1;33m\u001b[0m\u001b[1;33m\u001b[0m\u001b[0m\n\u001b[0;32m      7\u001b[0m     \u001b[0myvec\u001b[0m \u001b[1;33m=\u001b[0m \u001b[0mnp\u001b[0m\u001b[1;33m.\u001b[0m\u001b[0mlinspace\u001b[0m\u001b[1;33m(\u001b[0m\u001b[1;36m0\u001b[0m\u001b[1;33m,\u001b[0m\u001b[0mL\u001b[0m\u001b[1;33m,\u001b[0m\u001b[0mN_sp\u001b[0m\u001b[1;33m)\u001b[0m\u001b[1;33m\u001b[0m\u001b[1;33m\u001b[0m\u001b[0m\n\u001b[1;32m----> 8\u001b[1;33m     \u001b[1;33m[\u001b[0m\u001b[0mX\u001b[0m\u001b[1;33m,\u001b[0m\u001b[0mY\u001b[0m\u001b[1;33m]\u001b[0m \u001b[1;33m=\u001b[0m \u001b[0mnp\u001b[0m\u001b[1;33m.\u001b[0m\u001b[0mmeshgrid\u001b[0m\u001b[1;33m(\u001b[0m\u001b[0mxvec\u001b[0m\u001b[1;33m,\u001b[0m\u001b[0myvec\u001b[0m\u001b[1;33m)\u001b[0m\u001b[1;33m\u001b[0m\u001b[1;33m\u001b[0m\u001b[0m\n\u001b[0m\u001b[0;32m      9\u001b[0m     \u001b[0mu\u001b[0m \u001b[1;33m=\u001b[0m \u001b[0msin\u001b[0m\u001b[1;33m(\u001b[0m\u001b[0mX\u001b[0m\u001b[1;33m)\u001b[0m\u001b[1;33m*\u001b[0m\u001b[0msin\u001b[0m\u001b[1;33m(\u001b[0m\u001b[0mY\u001b[0m\u001b[1;33m)\u001b[0m\u001b[1;33m\u001b[0m\u001b[1;33m\u001b[0m\u001b[0m\n\u001b[0;32m     10\u001b[0m     \u001b[0mLapu\u001b[0m \u001b[1;33m=\u001b[0m \u001b[1;33m-\u001b[0m\u001b[1;36m2\u001b[0m\u001b[1;33m*\u001b[0m\u001b[0mu\u001b[0m\u001b[1;33m\u001b[0m\u001b[1;33m\u001b[0m\u001b[0m\n",
      "\u001b[1;32m~\\AppData\\Local\\Packages\\PythonSoftwareFoundation.Python.3.9_qbz5n2kfra8p0\\LocalCache\\local-packages\\Python39\\site-packages\\numpy\\core\\overrides.py\u001b[0m in \u001b[0;36mmeshgrid\u001b[1;34m(*args, **kwargs)\u001b[0m\n",
      "\u001b[1;32m~\\AppData\\Local\\Packages\\PythonSoftwareFoundation.Python.3.9_qbz5n2kfra8p0\\LocalCache\\local-packages\\Python39\\site-packages\\numpy\\lib\\function_base.py\u001b[0m in \u001b[0;36mmeshgrid\u001b[1;34m(copy, sparse, indexing, *xi)\u001b[0m\n\u001b[0;32m   4988\u001b[0m \u001b[1;33m\u001b[0m\u001b[0m\n\u001b[0;32m   4989\u001b[0m     \u001b[1;32mif\u001b[0m \u001b[0mcopy\u001b[0m\u001b[1;33m:\u001b[0m\u001b[1;33m\u001b[0m\u001b[1;33m\u001b[0m\u001b[0m\n\u001b[1;32m-> 4990\u001b[1;33m         \u001b[0moutput\u001b[0m \u001b[1;33m=\u001b[0m \u001b[1;33m[\u001b[0m\u001b[0mx\u001b[0m\u001b[1;33m.\u001b[0m\u001b[0mcopy\u001b[0m\u001b[1;33m(\u001b[0m\u001b[1;33m)\u001b[0m \u001b[1;32mfor\u001b[0m \u001b[0mx\u001b[0m \u001b[1;32min\u001b[0m \u001b[0moutput\u001b[0m\u001b[1;33m]\u001b[0m\u001b[1;33m\u001b[0m\u001b[1;33m\u001b[0m\u001b[0m\n\u001b[0m\u001b[0;32m   4991\u001b[0m \u001b[1;33m\u001b[0m\u001b[0m\n\u001b[0;32m   4992\u001b[0m     \u001b[1;32mreturn\u001b[0m \u001b[0moutput\u001b[0m\u001b[1;33m\u001b[0m\u001b[1;33m\u001b[0m\u001b[0m\n",
      "\u001b[1;32m~\\AppData\\Local\\Packages\\PythonSoftwareFoundation.Python.3.9_qbz5n2kfra8p0\\LocalCache\\local-packages\\Python39\\site-packages\\numpy\\lib\\function_base.py\u001b[0m in \u001b[0;36m<listcomp>\u001b[1;34m(.0)\u001b[0m\n\u001b[0;32m   4988\u001b[0m \u001b[1;33m\u001b[0m\u001b[0m\n\u001b[0;32m   4989\u001b[0m     \u001b[1;32mif\u001b[0m \u001b[0mcopy\u001b[0m\u001b[1;33m:\u001b[0m\u001b[1;33m\u001b[0m\u001b[1;33m\u001b[0m\u001b[0m\n\u001b[1;32m-> 4990\u001b[1;33m         \u001b[0moutput\u001b[0m \u001b[1;33m=\u001b[0m \u001b[1;33m[\u001b[0m\u001b[0mx\u001b[0m\u001b[1;33m.\u001b[0m\u001b[0mcopy\u001b[0m\u001b[1;33m(\u001b[0m\u001b[1;33m)\u001b[0m \u001b[1;32mfor\u001b[0m \u001b[0mx\u001b[0m \u001b[1;32min\u001b[0m \u001b[0moutput\u001b[0m\u001b[1;33m]\u001b[0m\u001b[1;33m\u001b[0m\u001b[1;33m\u001b[0m\u001b[0m\n\u001b[0m\u001b[0;32m   4991\u001b[0m \u001b[1;33m\u001b[0m\u001b[0m\n\u001b[0;32m   4992\u001b[0m     \u001b[1;32mreturn\u001b[0m \u001b[0moutput\u001b[0m\u001b[1;33m\u001b[0m\u001b[1;33m\u001b[0m\u001b[0m\n",
      "\u001b[1;31mKeyboardInterrupt\u001b[0m: "
     ]
    }
   ],
   "source": [
    "Er = []\n",
    "N = np.concatenate((np.arange(10,500,20),np.arange(500,2000,100),np.arange(2000,7000,500)))\n",
    "for N_sp in tqdm(N):\n",
    "    L = 2*pi\n",
    "    dx = L/(N_sp-1)\n",
    "    xvec = np.linspace(0,L,N_sp)\n",
    "    yvec = np.linspace(0,L,N_sp)\n",
    "    [X,Y] = np.meshgrid(xvec,yvec)\n",
    "    u = sin(X)*sin(Y)\n",
    "    Lapu = -2*u\n",
    "    Lap_num = DDx_Neu(u,dx,0,0)+DDy_Neu(u,dx,0,0)\n",
    "    Error = np.mean(np.abs(Lapu[1:N_sp-1,1:N_sp-1]-Lap_num[1:N_sp-1,1:N_sp-1]))\n",
    "    Er.append(Error)"
   ]
  },
  {
   "cell_type": "code",
   "execution_count": null,
   "id": "58f49828-5a69-476c-a112-320714e65991",
   "metadata": {},
   "outputs": [],
   "source": [
    "plt.plot(N,np.log(np.abs(Er)))\n",
    "plt.grid()"
   ]
  },
  {
   "cell_type": "code",
   "execution_count": 13,
   "id": "0aa13ef4-c46f-4672-a1b6-10a7d2cb6042",
   "metadata": {},
   "outputs": [],
   "source": [
    "class poisson_equation():\n",
    "    def __init__(self,rho,N,L,kmax = 1000,mu = 1e-3,precision = 1e-6):\n",
    "        self.kmax = kmax\n",
    "        self.N = N\n",
    "        self.L = L\n",
    "        self.u = []\n",
    "        self.dx = L/(N-1)\n",
    "        self.mu = mu\n",
    "        self.rho = rho\n",
    "        self.precision = precision\n",
    "        [self.X,self.Y] = np.meshgrid(np.linspace(0,L,N),np.linspace(0,L,N))\n",
    "        self.first = True\n",
    "    def jacobi_solver(self,iter = 50):\n",
    "        if self.first:\n",
    "            phi_new = np.zeros([N,N])\n",
    "            phi = phi_new\n",
    "            self.first = False\n",
    "        else:\n",
    "            phi_new = self.u\n",
    "            phi = self.u\n",
    "        k = 0\n",
    "        while k < iter:\n",
    "            for i in range(1,N-1):\n",
    "                for j in range(1,N-1):\n",
    "                    phi_new[i,j] =+0.25*(phi[i+1,j]+phi[i-1,j]+phi[i,j+1]+phi[i,j-1])-0.25*self.dx**2*self.rho[i,j]/self.mu\n",
    "            phi = phi_new\n",
    "\n",
    "            k+=1\n",
    "        self.u = phi\n",
    "    def get_simulation(self):\n",
    "        return self.u,self.X,self.Y,self.dx"
   ]
  },
  {
   "cell_type": "code",
   "execution_count": 44,
   "id": "de8abde1-1239-4278-b468-f6d29f4ca58c",
   "metadata": {},
   "outputs": [],
   "source": [
    "N = 100\n",
    "p = -np.ones([N,N])*100\n",
    "test = poisson_equation(p,N,10,mu = 1)"
   ]
  },
  {
   "cell_type": "code",
   "execution_count": 45,
   "id": "fe5617b9-a65b-45e1-9216-46712de19021",
   "metadata": {},
   "outputs": [
    {
     "data": {
      "text/plain": [
       "<mpl_toolkits.mplot3d.art3d.Poly3DCollection at 0x2cb74439850>"
      ]
     },
     "execution_count": 45,
     "metadata": {},
     "output_type": "execute_result"
    },
    {
     "data": {
      "image/png": "[encoded data removed]",
      "text/plain": [
       "<Figure size 432x288 with 1 Axes>"
      ]
     },
     "metadata": {
      "needs_background": "light"
     },
     "output_type": "display_data"
    }
   ],
   "source": [
    "test.jacobi_solver(iter = 100)\n",
    "u,x,y,dx = test.get_simulation()\n",
    "fig, ax = plt.subplots(subplot_kw={\"projection\": \"3d\"})\n",
    "ax.plot_surface(x,y,u,cmap=cm.coolwarm,linewidth=0, antialiased=False)\n",
    "\n"
   ]
  }
 ],
 "metadata": {
  "kernelspec": {
   "display_name": "Python 3 (ipykernel)",
   "language": "python",
   "name": "python3"
  },
  "language_info": {
   "codemirror_mode": {
    "name": "ipython",
    "version": 3
   },
   "file_extension": ".py",
   "mimetype": "text/x-python",
   "name": "python",
   "nbconvert_exporter": "python",
   "pygments_lexer": "ipython3",
   "version": "3.9.13"
  }
 },
 "nbformat": 4,
 "nbformat_minor": 5
}
