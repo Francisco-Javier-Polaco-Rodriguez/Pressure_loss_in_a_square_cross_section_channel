{
 "cells": [
  {
   "cell_type": "code",
   "execution_count": 191,
   "id": "fb6307f4-316e-4d22-a1ec-f4c0a478d6ab",
   "metadata": {},
   "outputs": [],
   "source": [
    "import numpy as np\n",
    "from numpy import sin,cos,tan,pi\n",
    "import time\n",
    "import matplotlib.pyplot as plt\n",
    "from tqdm import tqdm"
   ]
  },
  {
   "cell_type": "markdown",
   "id": "6f451df2-0e2a-418c-8341-72aa9a2a6235",
   "metadata": {},
   "source": [
    "In order to calculate the error of our method for the resulution of the PDE, we are going before to caracterize the numerical laplacian"
   ]
  },
  {
   "cell_type": "code",
   "execution_count": 205,
   "id": "057e097c-f277-43dd-aba4-044a00aac61e",
   "metadata": {},
   "outputs": [],
   "source": [
    "def DDx_per(M,dx):\n",
    "    I,J = M.shape\n",
    "    ddxM = np.zeros([I,J])\n",
    "    for j in range(J):\n",
    "        if j == J-1:\n",
    "            ddxM[:,j] = (M[:,2]-2*M[:,j]+M[:,j-2])/dx**2\n",
    "        elif j == 0:\n",
    "            ddxM[:,j] = (M[:,j+2]-2*M[:,j]+M[:,-3])/dx**2\n",
    "        elif j == 1:\n",
    "            ddxM[:,j] = (M[:,j+2]-2*M[:,j]+M[:,-2])/dx**2\n",
    "        elif j == J-2:\n",
    "            ddxM[:,j] = (M[:,1]-2*M[:,j]+M[:,j-2])/dx**2\n",
    "        else:\n",
    "            ddxM[:,j] = (M[:,j+2]-2*M[:,j]+M[:,j-2])/dx**2\n",
    "    return ddxM\n",
    "\n",
    "def DDy_per(M,dy):\n",
    "    I,J = M.shape\n",
    "    ddyM = np.zeros([I,J])\n",
    "    for i in range(I):\n",
    "        if i == I-1:\n",
    "            ddyM[i,:] = (M[2,:]-2*M[i,:]+M[i-2,:])/dy**2\n",
    "        elif i == 0:\n",
    "            ddyM[i,:] = (M[i+2,:]-2*M[i,:]+M[-3,:])/dy**2\n",
    "        elif i == 1:\n",
    "            ddyM[i,:] = (M[i+2,:]-2*M[i,:]+M[-2,:])/dy**2\n",
    "        elif i == I-2:\n",
    "            ddyM[i,:] = (M[1,:]-2*M[i,:]+M[i-2,:])/dy**2\n",
    "        else:\n",
    "            ddyM[i,:] = (M[i+2,:]-2*M[i,:]+M[i-2,:])/dy**2\n",
    "    return ddyM\n",
    "\n",
    "def DDx_Neu(M,dx,Bound_left,Bound_right):\n",
    "    I,J = M.shape\n",
    "    ddxM = np.zeros([I,J])\n",
    "    for j in range(1,J-1):\n",
    "        if j == J-1:\n",
    "            ddxM[:,j] = (Bound_right-2*M[:,j]+M[:,j-1])/dx**2\n",
    "        elif j == 0:\n",
    "            ddxM[:,j] = (M[:,j+1]-2*M[:,j]+Bound_left)/dx**2\n",
    "        else:\n",
    "            ddxM[:,j] = (M[:,j+1]-2*M[:,j]+M[:,j-1])/dx**2\n",
    "    return ddxM\n",
    "def DDy_Neu(M,dy,Bound_up,Bound_down):\n",
    "    I,J = M.shape\n",
    "    ddyM = np.zeros([I,J])\n",
    "    for i in range(1,I-1):\n",
    "        if i == I-1:\n",
    "            ddyM[i,:] = (Bound_down-2*M[i,:]+M[i-1,:])/dy**2\n",
    "        elif i == 0:\n",
    "            ddyM[i,:] = (M[i+1,:]-2*M[i,:]+Bound_up)/dy**2\n",
    "        else:\n",
    "            ddyM[i,:] = (M[i+1,:]-2*M[i,:]+M[i-1,:])/dy**2\n",
    "    return ddyM"
   ]
  },
  {
   "cell_type": "code",
   "execution_count": null,
   "id": "5e6673d7-366b-479f-b497-aebbf500d494",
   "metadata": {},
   "outputs": [],
   "source": []
  },
  {
   "cell_type": "code",
   "execution_count": 206,
   "id": "10952186-9f99-4871-bd3d-d6084f3b1a2c",
   "metadata": {},
   "outputs": [
    {
     "name": "stderr",
     "output_type": "stream",
     "text": [
      "100%|██████████████████████████████████████████████████████████████████████████████████| 50/50 [00:17<00:00,  2.82it/s]\n"
     ]
    }
   ],
   "source": [
    "Er = []\n",
    "N = np.concatenate((np.arange(10,500,20),np.arange(500,2000,100),np.arange(2000,7000,500)))\n",
    "for N_sp in tqdm(N):\n",
    "    L = 2*pi\n",
    "    dx = L/(N_sp-1)\n",
    "    xvec = np.linspace(0,L,N_sp)\n",
    "    yvec = np.linspace(0,L,N_sp)\n",
    "    [X,Y] = np.meshgrid(xvec,yvec)\n",
    "    u = sin(X)*sin(Y)\n",
    "    Lapu = -2*u\n",
    "    Lap_num = DDx_Neu(u,dx,0,0)+DDy_Neu(u,dx,0,0)\n",
    "    Error = np.mean(np.abs(Lapu[1:N_sp-1,1:N_sp-1]-Lap_num[1:N_sp-1,1:N_sp-1]))\n",
    "    Er.append(Error)"
   ]
  },
  {
   "cell_type": "code",
   "execution_count": 216,
   "id": "58f49828-5a69-476c-a112-320714e65991",
   "metadata": {},
   "outputs": [
    {
     "data": {
      "image/png": "[encoded data removed]",
      "text/plain": [
       "<Figure size 432x288 with 1 Axes>"
      ]
     },
     "metadata": {
      "needs_background": "light"
     },
     "output_type": "display_data"
    }
   ],
   "source": [
    "plt.plot(N,np.log(np.abs(Er)))\n",
    "plt.grid()"
   ]
  },
  {
   "cell_type": "code",
   "execution_count": 306,
   "id": "0aa13ef4-c46f-4672-a1b6-10a7d2cb6042",
   "metadata": {},
   "outputs": [],
   "source": [
    "class poisson_equation():\n",
    "    def __init__(self,rho,N,L,kmax = 60,mu = 1e-3,precision = 1e-6):\n",
    "        self.kmax = kmax\n",
    "        self.N = N\n",
    "        self.L = L\n",
    "        self.u = []\n",
    "        self.dx = L/N\n",
    "        self.mu = mu\n",
    "        self.rho = rho\n",
    "        self.precision = precision\n",
    "        [self.X,self.Y] = np.meshgrid(np.linspace(0,L,N),np.linspace(0,L,N))\n",
    "    def jacobi_solver(self):\n",
    "        phi_new = np.zeros([N,N])\n",
    "        phi = phi_new\n",
    "        k = 0\n",
    "        while k < self.kmax:\n",
    "            for i in range(1,N-1):\n",
    "                for j in range(1,N-1):\n",
    "                    phi_new[i,j] =0.25*((phi[i+1,j]+phi[i-1,j]+phi[i,j+1]+phi[i,j-1])-self.dx**2*self.rho[i,j]/self.mu)\n",
    "            if 2*np.mean(np.abs(phi-phi_new))/np.mean(np.abs(phi+phi_new)) < self.precision:\n",
    "                break\n",
    "            k+=1\n",
    "        self.u = phi\n",
    "    def get_u(self):\n",
    "        return self.u"
   ]
  },
  {
   "cell_type": "code",
   "execution_count": 314,
   "id": "de8abde1-1239-4278-b468-f6d29f4ca58c",
   "metadata": {},
   "outputs": [],
   "source": [
    "N = 50\n",
    "p = np.ones([N,N])*1000\n",
    "test = poisson_equation(p,N,0.5,mu = 1e-1)"
   ]
  },
  {
   "cell_type": "code",
   "execution_count": 315,
   "id": "f794a7b1-378c-4e45-b47a-5133359579cc",
   "metadata": {},
   "outputs": [],
   "source": [
    "test.jacobi_solver()"
   ]
  },
  {
   "cell_type": "code",
   "execution_count": 316,
   "id": "fe5617b9-a65b-45e1-9216-46712de19021",
   "metadata": {},
   "outputs": [
    {
     "data": {
      "text/plain": [
       "<matplotlib.colorbar.Colorbar at 0x1fdc8771af0>"
      ]
     },
     "execution_count": 316,
     "metadata": {},
     "output_type": "execute_result"
    },
    {
     "data": {
      "image/png": "[encoded data removed]",
      "text/plain": [
       "<Figure size 432x288 with 2 Axes>"
      ]
     },
     "metadata": {
      "needs_background": "light"
     },
     "output_type": "display_data"
    }
   ],
   "source": [
    "plt.imshow(test.get_u(),cmap = 'jet')\n",
    "plt.colorbar()"
   ]
  }
 ],
 "metadata": {
  "kernelspec": {
   "display_name": "Python 3 (ipykernel)",
   "language": "python",
   "name": "python3"
  },
  "language_info": {
   "codemirror_mode": {
    "name": "ipython",
    "version": 3
   },
   "file_extension": ".py",
   "mimetype": "text/x-python",
   "name": "python",
   "nbconvert_exporter": "python",
   "pygments_lexer": "ipython3",
   "version": "3.9.13"
  }
 },
 "nbformat": 4,
 "nbformat_minor": 5
}
